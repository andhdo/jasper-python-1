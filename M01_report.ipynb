{
 "cells": [
  {
   "cell_type": "markdown",
   "metadata": {},
   "source": [
    "using https://github.com/acesseonline/pyreportjasper"
   ]
  },
  {
   "cell_type": "code",
   "execution_count": 14,
   "metadata": {},
   "outputs": [],
   "source": [
    "import os\n",
    "from pyreportjasper import PyReportJasper\n",
    "\n",
    "def json_to_pdf():\n",
    "   current_file= os.path.abspath('')\n",
    "   RESOURCES_DIR = os.path.join(current_file, 'resources')\n",
    "   REPORTS_DIR = os.path.join(current_file, 'reports')\n",
    "   input_file = os.path.join(REPORTS_DIR, 'json.jrxml')\n",
    "   output_file = os.path.join(REPORTS_DIR, 'json')\n",
    "   conn = {\n",
    "      'driver': 'json',\n",
    "      'data_file': os.path.join(RESOURCES_DIR, 'contacts.json'),\n",
    "      'json_query': 'contacts.person'\n",
    "   }\n",
    "   pyreportjasper = PyReportJasper()\n",
    "   pyreportjasper.config(\n",
    "      input_file,\n",
    "      output_file,\n",
    "      output_formats=[\"pdf\"],\n",
    "      db_connection=conn\n",
    "   )\n",
    "   pyreportjasper.process_report()\n",
    "   print('Result is the file below.')\n",
    "   print(output_file + '.pdf')\n"
   ]
  },
  {
   "cell_type": "code",
   "execution_count": 15,
   "metadata": {},
   "outputs": [
    {
     "name": "stdout",
     "output_type": "stream",
     "text": [
      "[0.008s][warning][cds] Archived non-system classes are disabled because the java.system.class.loader property is specified (value = \"org.update4j.DynamicClassLoader\"). To use archived non-system classes, this property must not be set\n"
     ]
    },
    {
     "ename": "NameError",
     "evalue": "Error fill report: Erro fill internal: dataFile is not file",
     "output_type": "error",
     "traceback": [
      "\u001b[0;31m---------------------------------------------------------------------------\u001b[0m",
      "\u001b[0;31mNameError\u001b[0m                                 Traceback (most recent call last)",
      "Cell \u001b[0;32mIn[15], line 1\u001b[0m\n\u001b[0;32m----> 1\u001b[0m json_to_pdf()\n",
      "Cell \u001b[0;32mIn[14], line 22\u001b[0m, in \u001b[0;36mjson_to_pdf\u001b[0;34m()\u001b[0m\n\u001b[1;32m     15\u001b[0m pyreportjasper \u001b[38;5;241m=\u001b[39m PyReportJasper()\n\u001b[1;32m     16\u001b[0m pyreportjasper\u001b[38;5;241m.\u001b[39mconfig(\n\u001b[1;32m     17\u001b[0m    input_file,\n\u001b[1;32m     18\u001b[0m    output_file,\n\u001b[1;32m     19\u001b[0m    output_formats\u001b[38;5;241m=\u001b[39m[\u001b[38;5;124m\"\u001b[39m\u001b[38;5;124mpdf\u001b[39m\u001b[38;5;124m\"\u001b[39m],\n\u001b[1;32m     20\u001b[0m    db_connection\u001b[38;5;241m=\u001b[39mconn\n\u001b[1;32m     21\u001b[0m )\n\u001b[0;32m---> 22\u001b[0m pyreportjasper\u001b[38;5;241m.\u001b[39mprocess_report()\n\u001b[1;32m     23\u001b[0m \u001b[38;5;28mprint\u001b[39m(\u001b[38;5;124m'\u001b[39m\u001b[38;5;124mResult is the file below.\u001b[39m\u001b[38;5;124m'\u001b[39m)\n\u001b[1;32m     24\u001b[0m \u001b[38;5;28mprint\u001b[39m(output_file \u001b[38;5;241m+\u001b[39m \u001b[38;5;124m'\u001b[39m\u001b[38;5;124m.pdf\u001b[39m\u001b[38;5;124m'\u001b[39m)\n",
      "File \u001b[0;32m~/miniconda3/envs/mojana_dev/lib/python3.12/site-packages/pyreportjasper/pyreportjasper.py:192\u001b[0m, in \u001b[0;36mPyReportJasper.process_report\u001b[0;34m(self)\u001b[0m\n\u001b[1;32m    190\u001b[0m     error \u001b[38;5;241m=\u001b[39m \u001b[38;5;167;01mNameError\u001b[39;00m(\u001b[38;5;124m'\u001b[39m\u001b[38;5;124mError: not a file: \u001b[39m\u001b[38;5;132;01m{}\u001b[39;00m\u001b[38;5;124m'\u001b[39m\u001b[38;5;241m.\u001b[39mformat(\u001b[38;5;28mself\u001b[39m\u001b[38;5;241m.\u001b[39mconfig\u001b[38;5;241m.\u001b[39minput))\n\u001b[1;32m    191\u001b[0m \u001b[38;5;28;01mif\u001b[39;00m error:\n\u001b[0;32m--> 192\u001b[0m     \u001b[38;5;28;01mraise\u001b[39;00m error\n\u001b[1;32m    193\u001b[0m \u001b[38;5;28;01mreturn\u001b[39;00m \u001b[38;5;28;01mTrue\u001b[39;00m\n",
      "\u001b[0;31mNameError\u001b[0m: Error fill report: Erro fill internal: dataFile is not file"
     ]
    }
   ],
   "source": [
    "json_to_pdf()"
   ]
  },
  {
   "cell_type": "code",
   "execution_count": null,
   "metadata": {},
   "outputs": [],
   "source": []
  }
 ],
 "metadata": {
  "kernelspec": {
   "display_name": "mojana_dev",
   "language": "python",
   "name": "python3"
  },
  "language_info": {
   "codemirror_mode": {
    "name": "ipython",
    "version": 3
   },
   "file_extension": ".py",
   "mimetype": "text/x-python",
   "name": "python",
   "nbconvert_exporter": "python",
   "pygments_lexer": "ipython3",
   "version": "3.12.4"
  }
 },
 "nbformat": 4,
 "nbformat_minor": 2
}
